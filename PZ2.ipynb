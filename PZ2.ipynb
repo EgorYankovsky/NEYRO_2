{
 "cells": [
  {
   "cell_type": "markdown",
   "metadata": {},
   "source": [
    "# Практическое задание №2"
   ]
  },
  {
   "cell_type": "markdown",
   "metadata": {},
   "source": [
    "## **Тема:** Автоматическое распознавание речи"
   ]
  },
  {
   "cell_type": "markdown",
   "metadata": {},
   "source": [
    "* *Студенты:* Ларин Марк, Янковский Егор\n",
    "* *Группа:* ПМ-02"
   ]
  },
  {
   "cell_type": "markdown",
   "metadata": {},
   "source": [
    "### Предварительно обученные модели для распознавание речи. Сравнение CTC и Seq2Seq моделей."
   ]
  },
  {
   "cell_type": "code",
   "execution_count": null,
   "metadata": {},
   "outputs": [],
   "source": [
    "#!pip install accelerate -U\n",
    "import torch\n",
    "import locale\n",
    "locale.getpreferredencoding = lambda: \"UTF-8\"\n",
    "from transformers import pipeline\n",
    "from datasets import Audio\n",
    "from datasets import load_dataset\n",
    "from IPython.display import Audio\n",
    "import numpy as np\n",
    "from transformers.models.whisper.english_normalizer import BasicTextNormalizer\n",
    "from huggingface_hub import notebook_login"
   ]
  }
 ],
 "metadata": {
  "kernelspec": {
   "display_name": "Python 3",
   "language": "python",
   "name": "python3"
  },
  "language_info": {
   "name": "python",
   "version": "3.12.2"
  }
 },
 "nbformat": 4,
 "nbformat_minor": 2
}
